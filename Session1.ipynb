{
 "cells": [
  {
   "cell_type": "code",
   "execution_count": 1,
   "metadata": {},
   "outputs": [
    {
     "name": "stdout",
     "output_type": "stream",
     "text": [
      "You are good at this\n"
     ]
    }
   ],
   "source": [
    "print(\"You are good at this\")"
   ]
  },
  {
   "cell_type": "code",
   "execution_count": 2,
   "metadata": {},
   "outputs": [],
   "source": [
    "## hello"
   ]
  },
  {
   "cell_type": "code",
   "execution_count": 3,
   "metadata": {},
   "outputs": [
    {
     "name": "stdout",
     "output_type": "stream",
     "text": [
      "Hello World!\n"
     ]
    }
   ],
   "source": [
    "new_string = 'Hello World!'\n",
    "\n",
    "print(new_string)"
   ]
  },
  {
   "cell_type": "code",
   "execution_count": 4,
   "metadata": {},
   "outputs": [
    {
     "name": "stdout",
     "output_type": "stream",
     "text": [
      "<class 'str'>\n"
     ]
    }
   ],
   "source": [
    "print( type( new_string))"
   ]
  },
  {
   "cell_type": "code",
   "execution_count": 6,
   "metadata": {},
   "outputs": [
    {
     "name": "stdout",
     "output_type": "stream",
     "text": [
      "Hello there \"coder\", I'm sure you'll do great! Just remember to use the \\\n"
     ]
    }
   ],
   "source": [
    "print (\"Hello there \\\"coder\\\", I'm sure you'll do great! Just remember to use the \\\\\")"
   ]
  },
  {
   "cell_type": "code",
   "execution_count": 10,
   "metadata": {},
   "outputs": [
    {
     "name": "stdout",
     "output_type": "stream",
     "text": [
      "heelooo \n",
      " yoooooo\n"
     ]
    }
   ],
   "source": [
    "print(\"heelooo \\n yoooooo\")"
   ]
  },
  {
   "cell_type": "code",
   "execution_count": 12,
   "metadata": {},
   "outputs": [
    {
     "name": "stdout",
     "output_type": "stream",
     "text": [
      "Hello Characters\n",
      "\n",
      "Did you know that tab\tis sometimes used\n",
      "\n",
      "\n",
      "\n",
      "\t\t\t\t\tto move words around.\n"
     ]
    }
   ],
   "source": [
    "print (\"Hello Characters\")\n",
    "print (\"\\nDid you know that tab\\tis sometimes used\\n\\n\\n\")\n",
    "print(\"\\t\\t\\t\\t\\tto move words around.\")"
   ]
  },
  {
   "cell_type": "code",
   "execution_count": 13,
   "metadata": {},
   "outputs": [],
   "source": [
    "x=7"
   ]
  },
  {
   "cell_type": "code",
   "execution_count": 14,
   "metadata": {},
   "outputs": [
    {
     "data": {
      "text/plain": [
       "7"
      ]
     },
     "execution_count": 14,
     "metadata": {},
     "output_type": "execute_result"
    }
   ],
   "source": [
    "x"
   ]
  },
  {
   "cell_type": "code",
   "execution_count": 15,
   "metadata": {},
   "outputs": [
    {
     "name": "stdout",
     "output_type": "stream",
     "text": [
      "<class 'int'>\n",
      "<class 'float'>\n"
     ]
    }
   ],
   "source": [
    "y=4.0\n",
    "\n",
    "print(type(x))\n",
    "print(type(y))"
   ]
  },
  {
   "cell_type": "code",
   "execution_count": 16,
   "metadata": {},
   "outputs": [
    {
     "name": "stdout",
     "output_type": "stream",
     "text": [
      "<class 'float'> 11.0\n"
     ]
    }
   ],
   "source": [
    "z = x + y\n",
    "\n",
    "# this will show how z inherits the floating point number of y --- this is so we don't lose any precision...\n",
    "\n",
    "print(type(z), z)"
   ]
  },
  {
   "cell_type": "code",
   "execution_count": 20,
   "metadata": {},
   "outputs": [
    {
     "name": "stdout",
     "output_type": "stream",
     "text": [
      "x = 9\n",
      "y = 4\n",
      "x + y = 13\n",
      "x * y = 36\n",
      "x ** y = 6561\n",
      "x / y = 2.25\n",
      "x // y = 2\n",
      "x % y = 1\n"
     ]
    }
   ],
   "source": [
    "x=9\n",
    "y=4\n",
    "\n",
    "print(\"x =\",x)\n",
    "print(\"y =\",y)\n",
    "\n",
    "print(\"x + y =\", x+y)\n",
    "\n",
    "print(\"x * y =\", x*y)\n",
    "\n",
    "print(\"x ** y =\", x**y)\n",
    "\n",
    "### slightly more complex here, x/y gives float class number where as x//y gives whole number, below this shows how to get the remainder from integer division\n",
    "\n",
    "print(\"x / y =\", x/y)\n",
    "\n",
    "print(\"x // y =\", x//y)\n",
    "\n",
    "print(\"x % y =\", x%y)"
   ]
  },
  {
   "cell_type": "code",
   "execution_count": 22,
   "metadata": {},
   "outputs": [],
   "source": [
    "### other languages like java require the interger to be defined prior to string of code, python is more generous here. i.e. int x = 7 to avoid issues like x = sdfhnsudh y = 7 then \n",
    "### doing x + y --- if you did this with python it would just give error"
   ]
  },
  {
   "cell_type": "code",
   "execution_count": 23,
   "metadata": {},
   "outputs": [],
   "source": [
    "whatisthis_yoyo = \"The quick brown fox jumps over the lazy dog\""
   ]
  },
  {
   "cell_type": "code",
   "execution_count": 24,
   "metadata": {},
   "outputs": [
    {
     "data": {
      "text/plain": [
       "'The quick brown fox jumps over the lazy dog'"
      ]
     },
     "execution_count": 24,
     "metadata": {},
     "output_type": "execute_result"
    }
   ],
   "source": [
    "whatisthis_yoyo"
   ]
  },
  {
   "cell_type": "code",
   "execution_count": 28,
   "metadata": {},
   "outputs": [
    {
     "name": "stdout",
     "output_type": "stream",
     "text": [
      "The original string:\n",
      "\n",
      "To upper case\n",
      "THE BIG BLUE SHARK ATE THE FISH - YUCK!\n",
      "\n",
      "To lower case\n",
      "the big blue shark ate the fish - yuck!\n"
     ]
    }
   ],
   "source": [
    "new_string = \"The big blue shark ate the fish - yuck!\"\n",
    "print(\"The original string:\")\n",
    "print(\"\\nTo upper case\")\n",
    "print(new_string.upper())\n",
    "print(\"\\nTo lower case\")\n",
    "print(new_string.lower())\n",
    "\n",
    "\n",
    "\n",
    "### Super important to remember for the \\n \\t \\r commnands its \\\\\\\\\\ not /////"
   ]
  },
  {
   "cell_type": "code",
   "execution_count": 30,
   "metadata": {},
   "outputs": [],
   "source": [
    "### string formatting"
   ]
  },
  {
   "cell_type": "code",
   "execution_count": 49,
   "metadata": {},
   "outputs": [
    {
     "name": "stdout",
     "output_type": "stream",
     "text": [
      "1. Hello Earth\n",
      "\n",
      "2. Hello Earth\n",
      "\n",
      "2.5 Hello Earth Earth\n",
      "\n",
      "3. Hello Earth\n",
      "\n"
     ]
    }
   ],
   "source": [
    "planet = \"Earth\"\n",
    "new_str = \"1. Hello \" + planet\n",
    "\n",
    "print(new_str, end = \"\\n\\n\")\n",
    "\n",
    "new_str = \"2. Hello {}\".format(planet)\n",
    "print(new_str, end = \"\\n\\n\")\n",
    "\n",
    "new_str = \"2.5 Hello {} {}\".format(planet, planet)\n",
    "print (new_str, end=\"\\n\\n\")\n",
    "\n",
    "\n",
    "## F insertions are new to python 3, inserts the variable right in there.\n",
    "\n",
    "new_str = f\"3. Hello {planet}\"\n",
    "\n",
    "print(new_str, end = \"\\n\\n\")\n",
    "\n",
    "### end = \\n\\n - called an argument in the sense of an additional parameter that we send to the method.-- At the end of the print statement, include 2 \\n characters. If you dont\n",
    "### include this by default it will give a new line character. i.e. here you can set end to \"\" to take away this default.\n"
   ]
  },
  {
   "cell_type": "code",
   "execution_count": 68,
   "metadata": {},
   "outputs": [
    {
     "name": "stdout",
     "output_type": "stream",
     "text": [
      "5\n",
      "\n",
      "5.5\n"
     ]
    }
   ],
   "source": [
    "x = 5\n",
    "str_x = str(x)\n",
    "print(str(x), end=\"\\n\\n\")\n",
    "\n",
    "str_x = \"5.5\"\n",
    "float_x = float(str_x)\n",
    "print(float_x)"
   ]
  },
  {
   "cell_type": "code",
   "execution_count": 69,
   "metadata": {},
   "outputs": [
    {
     "ename": "ValueError",
     "evalue": "invalid literal for int() with base 10: '5.5'",
     "output_type": "error",
     "traceback": [
      "\u001b[1;31m---------------------------------------------------------------------------\u001b[0m",
      "\u001b[1;31mValueError\u001b[0m                                Traceback (most recent call last)",
      "\u001b[1;32m<ipython-input-69-edaa523d630e>\u001b[0m in \u001b[0;36m<module>\u001b[1;34m\u001b[0m\n\u001b[1;32m----> 1\u001b[1;33m \u001b[0mint_x\u001b[0m \u001b[1;33m=\u001b[0m \u001b[0mint\u001b[0m\u001b[1;33m(\u001b[0m\u001b[0mstr_x\u001b[0m\u001b[1;33m)\u001b[0m\u001b[1;33m\u001b[0m\u001b[1;33m\u001b[0m\u001b[0m\n\u001b[0m\u001b[0;32m      2\u001b[0m \u001b[0mprint\u001b[0m\u001b[1;33m(\u001b[0m\u001b[0mint_x\u001b[0m\u001b[1;33m)\u001b[0m\u001b[1;33m\u001b[0m\u001b[1;33m\u001b[0m\u001b[0m\n",
      "\u001b[1;31mValueError\u001b[0m: invalid literal for int() with base 10: '5.5'"
     ]
    }
   ],
   "source": [
    "int_x = int(str_x)\n",
    "print(int_x)\n",
    "#can't print int that is not an int (in this case its 5.5 therefore not a whole number)"
   ]
  },
  {
   "cell_type": "code",
   "execution_count": 78,
   "metadata": {},
   "outputs": [
    {
     "name": "stdout",
     "output_type": "stream",
     "text": [
      "pi to 2 decimal places is: 3.14\n",
      "\n",
      "pi to 2 decimal places is: 3.1416\n",
      "\n"
     ]
    }
   ],
   "source": [
    "pi_kinda =3.14159\n",
    "\n",
    "print(\"pi to 2 decimal places is: {:.2f}\".format(pi_kinda), end=\"\\n\\n\")\n",
    "print(\"pi to 2 decimal places is: {:.4f}\".format(pi_kinda), end=\"\\n\\n\")\n",
    "\n",
    "# : <--- system command which signals what ever is happening after is about formatting\n",
    "# .2f f means floating point number and .2f means give 2 decimal places of floating digit number"
   ]
  },
  {
   "cell_type": "code",
   "execution_count": 79,
   "metadata": {},
   "outputs": [
    {
     "name": "stdout",
     "output_type": "stream",
     "text": [
      "Apples\n"
     ]
    }
   ],
   "source": [
    "# Lists - use square brackets as ends...a basic example can be seen below\n",
    "# Like floors in a building, the components of a list start at 0 and go up, e.g. 0,1,2,3 in this case.\n",
    "\n",
    "list_example = [\"Apples\", \"Bananas\", \"Cucumbers\", \"Durians\"]\n",
    "\n",
    "# To return an element of a list we can do:\n",
    "\n",
    "print(list_example[0])"
   ]
  },
  {
   "cell_type": "code",
   "execution_count": 88,
   "metadata": {},
   "outputs": [
    {
     "name": "stdout",
     "output_type": "stream",
     "text": [
      "Apples\n",
      "Apples\n"
     ]
    },
    {
     "ename": "IndexError",
     "evalue": "list index out of range",
     "output_type": "error",
     "traceback": [
      "\u001b[1;31m---------------------------------------------------------------------------\u001b[0m",
      "\u001b[1;31mIndexError\u001b[0m                                Traceback (most recent call last)",
      "\u001b[1;32m<ipython-input-88-c7807663daff>\u001b[0m in \u001b[0;36m<module>\u001b[1;34m\u001b[0m\n\u001b[0;32m      5\u001b[0m \u001b[0mprint\u001b[0m\u001b[1;33m(\u001b[0m\u001b[0mlist_example\u001b[0m\u001b[1;33m[\u001b[0m\u001b[1;33m-\u001b[0m\u001b[1;36m4\u001b[0m\u001b[1;33m]\u001b[0m\u001b[1;33m)\u001b[0m\u001b[1;33m\u001b[0m\u001b[1;33m\u001b[0m\u001b[0m\n\u001b[0;32m      6\u001b[0m \u001b[1;33m\u001b[0m\u001b[0m\n\u001b[1;32m----> 7\u001b[1;33m \u001b[0mprint\u001b[0m\u001b[1;33m(\u001b[0m\u001b[0mlist_example\u001b[0m\u001b[1;33m[\u001b[0m\u001b[1;33m-\u001b[0m\u001b[1;36m5\u001b[0m\u001b[1;33m]\u001b[0m\u001b[1;33m)\u001b[0m\u001b[1;33m\u001b[0m\u001b[1;33m\u001b[0m\u001b[0m\n\u001b[0m",
      "\u001b[1;31mIndexError\u001b[0m: list index out of range"
     ]
    }
   ],
   "source": [
    "# Can also count backwards through the list so :\n",
    "\n",
    "print(list_example[0])\n",
    "\n",
    "print(list_example[-4])\n",
    "\n",
    "print(list_example[-5])"
   ]
  },
  {
   "cell_type": "code",
   "execution_count": 87,
   "metadata": {},
   "outputs": [
    {
     "name": "stdout",
     "output_type": "stream",
     "text": [
      "The list has 4 elements\n",
      "Bananas\n"
     ]
    }
   ],
   "source": [
    "# len is short for length\n",
    "\n",
    "list_length = len(list_example)\n",
    "print(f\"The list has {list_length} elements\")\n",
    "\n",
    "print(list_example[list_length-3])\n",
    "\n",
    "# 4 elements in the list (0,1,2,3) therefore n=4 -- n - 3 = 1 therefore we get bananas here..."
   ]
  },
  {
   "cell_type": "code",
   "execution_count": null,
   "metadata": {},
   "outputs": [],
   "source": []
  }
 ],
 "metadata": {
  "kernelspec": {
   "display_name": "Python 3",
   "language": "python",
   "name": "python3"
  },
  "language_info": {
   "codemirror_mode": {
    "name": "ipython",
    "version": 3
   },
   "file_extension": ".py",
   "mimetype": "text/x-python",
   "name": "python",
   "nbconvert_exporter": "python",
   "pygments_lexer": "ipython3",
   "version": "3.8.5"
  }
 },
 "nbformat": 4,
 "nbformat_minor": 4
}
